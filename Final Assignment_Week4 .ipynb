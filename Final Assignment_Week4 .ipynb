{
 "cells": [
  {
   "cell_type": "markdown",
   "metadata": {},
   "source": [
    "### Week 1 -\tA description of the problem and a discussion of the background"
   ]
  },
  {
   "cell_type": "markdown",
   "metadata": {},
   "source": [
    "##### For food enthuiast wanted to idenitfy how they can find places serves best steak in New York \n",
    "    "
   ]
  },
  {
   "cell_type": "markdown",
   "metadata": {},
   "source": [
    "##### Business Problem:\n",
    "    - Challange is many stakehouse in the city so it is very hard to search for good one \n",
    "    - Searching ratings by neighbhourhood is time consuming and tedious task\n",
    "    - Areas which have potential stakehouse growth opportunities \n"
   ]
  },
  {
   "cell_type": "markdown",
   "metadata": {},
   "source": [
    "##### Interested Audience\n",
    "    - People visiting New York City and surroundings\n",
    "    - Stake lovers wanted to taste best available steak in town\n",
    "    - Entrepreneurs wanted to open steak resturant in NY "
   ]
  },
  {
   "cell_type": "markdown",
   "metadata": {},
   "source": [
    "### A description of the data and how it will be used to solve the problem"
   ]
  },
  {
   "cell_type": "markdown",
   "metadata": {},
   "source": [
    "##### Description of the Data:\n",
    "The following data is required to answer the issues of the problem:\n",
    "\n",
    "    - List of Boroughs and neighborhoods of New York with their geodata (latitud and longitud)\n",
    "    - List of steak resturants in Borough\n",
    "    - Foursquare API to get list of venues, ratings, tips and other required details"
   ]
  },
  {
   "cell_type": "markdown",
   "metadata": {},
   "source": [
    "##### how it will be used to solve the problem\n",
    "The data will be used as follows:\n",
    "\n",
    "    -Data will be collected through Foursquare API's and Council\n",
    "    -Data will be sorted and enriched to generate meaningful analytics \n",
    "    -Finally data will be sorted with key attributes and plotted on geo maps for visualisation"
   ]
  },
  {
   "cell_type": "code",
   "execution_count": null,
   "metadata": {},
   "outputs": [],
   "source": []
  }
 ],
 "metadata": {
  "kernelspec": {
   "display_name": "Python 3",
   "language": "python",
   "name": "python3"
  },
  "language_info": {
   "codemirror_mode": {
    "name": "ipython",
    "version": 3
   },
   "file_extension": ".py",
   "mimetype": "text/x-python",
   "name": "python",
   "nbconvert_exporter": "python",
   "pygments_lexer": "ipython3",
   "version": "3.8.3"
  }
 },
 "nbformat": 4,
 "nbformat_minor": 4
}
